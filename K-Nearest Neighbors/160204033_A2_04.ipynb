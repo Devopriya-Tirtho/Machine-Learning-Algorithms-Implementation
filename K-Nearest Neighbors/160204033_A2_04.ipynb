{
  "nbformat": 4,
  "nbformat_minor": 0,
  "metadata": {
    "colab": {
      "name": "160204033_A2_04.ipynb",
      "provenance": [],
      "collapsed_sections": []
    },
    "kernelspec": {
      "name": "python3",
      "display_name": "Python 3"
    }
  },
  "cells": [
    {
      "cell_type": "code",
      "metadata": {
        "id": "z5oLPW_2g2Zh"
      },
      "source": [
        "import pandas as pd #importing pandas library\r\n",
        "import numpy as np #inporting numpy library\r\n",
        "import matplotlib.pyplot as plt #importing matplotlib library"
      ],
      "execution_count": null,
      "outputs": []
    },
    {
      "cell_type": "code",
      "metadata": {
        "id": "HniRLvazhpRA"
      },
      "source": [
        "train_data = pd.read_csv('train_knn.txt', sep=\",\", header=None) #Reading File Named 'train.txt' with Separator ' '\r\n",
        "train_data.columns = [\"x1\", \"y1\",\"class\"] #Giving Column Names"
      ],
      "execution_count": null,
      "outputs": []
    },
    {
      "cell_type": "code",
      "metadata": {
        "colab": {
          "base_uri": "https://localhost:8080/",
          "height": 468
        },
        "id": "N8iHCRs6huPJ",
        "outputId": "8530ab72-5f1e-4527-bdae-114f6e1a9c1a"
      },
      "source": [
        "train_data"
      ],
      "execution_count": null,
      "outputs": [
        {
          "output_type": "execute_result",
          "data": {
            "text/html": [
              "<div>\n",
              "<style scoped>\n",
              "    .dataframe tbody tr th:only-of-type {\n",
              "        vertical-align: middle;\n",
              "    }\n",
              "\n",
              "    .dataframe tbody tr th {\n",
              "        vertical-align: top;\n",
              "    }\n",
              "\n",
              "    .dataframe thead th {\n",
              "        text-align: right;\n",
              "    }\n",
              "</style>\n",
              "<table border=\"1\" class=\"dataframe\">\n",
              "  <thead>\n",
              "    <tr style=\"text-align: right;\">\n",
              "      <th></th>\n",
              "      <th>x1</th>\n",
              "      <th>y1</th>\n",
              "      <th>class</th>\n",
              "    </tr>\n",
              "  </thead>\n",
              "  <tbody>\n",
              "    <tr>\n",
              "      <th>0</th>\n",
              "      <td>7</td>\n",
              "      <td>7</td>\n",
              "      <td>1</td>\n",
              "    </tr>\n",
              "    <tr>\n",
              "      <th>1</th>\n",
              "      <td>7</td>\n",
              "      <td>4</td>\n",
              "      <td>1</td>\n",
              "    </tr>\n",
              "    <tr>\n",
              "      <th>2</th>\n",
              "      <td>6</td>\n",
              "      <td>4</td>\n",
              "      <td>1</td>\n",
              "    </tr>\n",
              "    <tr>\n",
              "      <th>3</th>\n",
              "      <td>7</td>\n",
              "      <td>5</td>\n",
              "      <td>1</td>\n",
              "    </tr>\n",
              "    <tr>\n",
              "      <th>4</th>\n",
              "      <td>7</td>\n",
              "      <td>6</td>\n",
              "      <td>1</td>\n",
              "    </tr>\n",
              "    <tr>\n",
              "      <th>5</th>\n",
              "      <td>6</td>\n",
              "      <td>7</td>\n",
              "      <td>1</td>\n",
              "    </tr>\n",
              "    <tr>\n",
              "      <th>6</th>\n",
              "      <td>6</td>\n",
              "      <td>6</td>\n",
              "      <td>1</td>\n",
              "    </tr>\n",
              "    <tr>\n",
              "      <th>7</th>\n",
              "      <td>3</td>\n",
              "      <td>4</td>\n",
              "      <td>2</td>\n",
              "    </tr>\n",
              "    <tr>\n",
              "      <th>8</th>\n",
              "      <td>2</td>\n",
              "      <td>3</td>\n",
              "      <td>2</td>\n",
              "    </tr>\n",
              "    <tr>\n",
              "      <th>9</th>\n",
              "      <td>3</td>\n",
              "      <td>2</td>\n",
              "      <td>2</td>\n",
              "    </tr>\n",
              "    <tr>\n",
              "      <th>10</th>\n",
              "      <td>4</td>\n",
              "      <td>3</td>\n",
              "      <td>2</td>\n",
              "    </tr>\n",
              "    <tr>\n",
              "      <th>11</th>\n",
              "      <td>3</td>\n",
              "      <td>3</td>\n",
              "      <td>2</td>\n",
              "    </tr>\n",
              "    <tr>\n",
              "      <th>12</th>\n",
              "      <td>4</td>\n",
              "      <td>4</td>\n",
              "      <td>2</td>\n",
              "    </tr>\n",
              "    <tr>\n",
              "      <th>13</th>\n",
              "      <td>1</td>\n",
              "      <td>4</td>\n",
              "      <td>2</td>\n",
              "    </tr>\n",
              "  </tbody>\n",
              "</table>\n",
              "</div>"
            ],
            "text/plain": [
              "    x1  y1  class\n",
              "0    7   7      1\n",
              "1    7   4      1\n",
              "2    6   4      1\n",
              "3    7   5      1\n",
              "4    7   6      1\n",
              "5    6   7      1\n",
              "6    6   6      1\n",
              "7    3   4      2\n",
              "8    2   3      2\n",
              "9    3   2      2\n",
              "10   4   3      2\n",
              "11   3   3      2\n",
              "12   4   4      2\n",
              "13   1   4      2"
            ]
          },
          "metadata": {
            "tags": []
          },
          "execution_count": 7
        }
      ]
    },
    {
      "cell_type": "code",
      "metadata": {
        "id": "dno9ZcOJhx0O"
      },
      "source": [
        "test_data = pd.read_csv('test_knn.txt', sep=\",\", header=None) #Reading File Named 'train.txt' with Separator ' '\r\n",
        "test_data.columns = [\"x1\", \"y1\"] #Giving Column Names"
      ],
      "execution_count": null,
      "outputs": []
    },
    {
      "cell_type": "code",
      "metadata": {
        "colab": {
          "base_uri": "https://localhost:8080/",
          "height": 318
        },
        "id": "gVZivAxWh1P3",
        "outputId": "22fc09f0-54bf-489e-d372-93eb7d867dde"
      },
      "source": [
        "test_data"
      ],
      "execution_count": null,
      "outputs": [
        {
          "output_type": "execute_result",
          "data": {
            "text/html": [
              "<div>\n",
              "<style scoped>\n",
              "    .dataframe tbody tr th:only-of-type {\n",
              "        vertical-align: middle;\n",
              "    }\n",
              "\n",
              "    .dataframe tbody tr th {\n",
              "        vertical-align: top;\n",
              "    }\n",
              "\n",
              "    .dataframe thead th {\n",
              "        text-align: right;\n",
              "    }\n",
              "</style>\n",
              "<table border=\"1\" class=\"dataframe\">\n",
              "  <thead>\n",
              "    <tr style=\"text-align: right;\">\n",
              "      <th></th>\n",
              "      <th>x1</th>\n",
              "      <th>y1</th>\n",
              "    </tr>\n",
              "  </thead>\n",
              "  <tbody>\n",
              "    <tr>\n",
              "      <th>0</th>\n",
              "      <td>3</td>\n",
              "      <td>7</td>\n",
              "    </tr>\n",
              "    <tr>\n",
              "      <th>1</th>\n",
              "      <td>7</td>\n",
              "      <td>7</td>\n",
              "    </tr>\n",
              "    <tr>\n",
              "      <th>2</th>\n",
              "      <td>4</td>\n",
              "      <td>3</td>\n",
              "    </tr>\n",
              "    <tr>\n",
              "      <th>3</th>\n",
              "      <td>2</td>\n",
              "      <td>8</td>\n",
              "    </tr>\n",
              "    <tr>\n",
              "      <th>4</th>\n",
              "      <td>3</td>\n",
              "      <td>5</td>\n",
              "    </tr>\n",
              "    <tr>\n",
              "      <th>5</th>\n",
              "      <td>1</td>\n",
              "      <td>2</td>\n",
              "    </tr>\n",
              "    <tr>\n",
              "      <th>6</th>\n",
              "      <td>4</td>\n",
              "      <td>8</td>\n",
              "    </tr>\n",
              "    <tr>\n",
              "      <th>7</th>\n",
              "      <td>8</td>\n",
              "      <td>3</td>\n",
              "    </tr>\n",
              "    <tr>\n",
              "      <th>8</th>\n",
              "      <td>8</td>\n",
              "      <td>4</td>\n",
              "    </tr>\n",
              "  </tbody>\n",
              "</table>\n",
              "</div>"
            ],
            "text/plain": [
              "   x1  y1\n",
              "0   3   7\n",
              "1   7   7\n",
              "2   4   3\n",
              "3   2   8\n",
              "4   3   5\n",
              "5   1   2\n",
              "6   4   8\n",
              "7   8   3\n",
              "8   8   4"
            ]
          },
          "metadata": {
            "tags": []
          },
          "execution_count": 8
        }
      ]
    },
    {
      "cell_type": "code",
      "metadata": {
        "colab": {
          "base_uri": "https://localhost:8080/"
        },
        "id": "mFkEpd1bh65a",
        "outputId": "f6bb22d8-ce3e-46e9-c2b5-bce5d1e360dc"
      },
      "source": [
        "b=train_data.shape #Finding The Shape of Train Dataset\r\n",
        "print(b[0]) #Printing the  Row Numbers\r\n",
        "RowNumber=b[0] #Assigning Row Numbers in RowNumber\r\n",
        "\r\n",
        "c=test_data.shape #Finding The Shape of Train Dataset\r\n",
        "print(c[0]) #Printing the  Row Numbers\r\n",
        "RowNumberTest=c[0] #Assigning Row Numbers in RowNumber\r\n",
        "\r\n",
        "#Defining 4 Lists for Train Class 1 and Class 2\r\n",
        "train_class1_x=[]\r\n",
        "train_class1_y=[]\r\n",
        "train_class2_x=[]\r\n",
        "train_class2_y=[]\r\n",
        "\r\n",
        "#Filtering The Class 1 and Class 2 coordinates\r\n",
        "for i in range(0,RowNumber):\r\n",
        "    y=train_data.at[i,'class']\r\n",
        "    if(y==1):\r\n",
        "      train_class1_x.append(train_data.at[i,'x1'])\r\n",
        "      train_class1_y.append(train_data.at[i,'y1'])\r\n",
        "    else:\r\n",
        "      train_class2_x.append(train_data.at[i,'x1'])\r\n",
        "      train_class2_y.append(train_data.at[i,'y1'])\r\n"
      ],
      "execution_count": null,
      "outputs": [
        {
          "output_type": "stream",
          "text": [
            "14\n",
            "9\n"
          ],
          "name": "stdout"
        }
      ]
    },
    {
      "cell_type": "code",
      "metadata": {
        "colab": {
          "base_uri": "https://localhost:8080/",
          "height": 283
        },
        "id": "7dmooz3kibZ1",
        "outputId": "c24538f4-b9db-41b3-ed6b-dd3dcade729b"
      },
      "source": [
        "#Plotting The Measured Train Class Points with Appropriate Marker\r\n",
        "plt.plot(train_class1_x,train_class1_y, 'ro', markersize=12,label=\"Train Class 1\")\r\n",
        "plt.plot(train_class2_x,train_class2_y, 'b*', markersize=12,label=\"Train Class 2\")\r\n",
        "plt.legend(bbox_to_anchor=(1, 1), loc=\"upper left\")"
      ],
      "execution_count": null,
      "outputs": [
        {
          "output_type": "execute_result",
          "data": {
            "text/plain": [
              "<matplotlib.legend.Legend at 0x7f702de1aa90>"
            ]
          },
          "metadata": {
            "tags": []
          },
          "execution_count": 18
        },
        {
          "output_type": "display_data",
          "data": {
            "image/png": "[encoded data removed]",
            "text/plain": [
              "<Figure size 432x288 with 1 Axes>"
            ]
          },
          "metadata": {
            "tags": [],
            "needs_background": "light"
          }
        }
      ]
    },
    {
      "cell_type": "code",
      "metadata": {
        "id": "XglYvYcuiwHF"
      },
      "source": [
        "NearestNeighbor=3"
      ],
      "execution_count": null,
      "outputs": []
    },
    {
      "cell_type": "code",
      "metadata": {
        "colab": {
          "base_uri": "https://localhost:8080/"
        },
        "id": "vZlvsKEXjUiw",
        "cellView": "code",
        "outputId": "f972ff17-3dd2-48d5-c977-90048b9d1011"
      },
      "source": [
        "#@title Default title text\n",
        "class_predict=[]\n",
        "class_final_predict=[]\n",
        "distance=[]\n",
        "for i in range(0,RowNumberTest): \n",
        "  print(\"Test Point:\",test_data.at[i,'x1'],test_data.at[i,'y1'])\n",
        "  for j in range(0,RowNumber):\n",
        "      \n",
        "      distance_cal=(train_data.at[j,'x1']-test_data.at[i,'x1'])**2 + \n",
        "      (train_data.at[j,'y1']-test_data.at[i,'y1']) **2\n",
        "      class_pred=train_data.at[j,'class']\n",
        "      distance.append([distance_cal,class_pred])\n",
        "  distance.sort() \n",
        "  #for k in range(0,NearestNeighbor):\n",
        "  \n",
        "  dis_array=np.array(distance)\n",
        "  \n",
        "  for k in range (0, NearestNeighbor):\n",
        "    print(\"Distance\",k+1,\":\",dis_array[k,0])\n",
        "    print(\"Class\",k+1,\":\",dis_array[k,1])\n",
        "    class_predict.append(dis_array[k,1])\n",
        "\n",
        "\n",
        "  class1=class_predict.count(1)\n",
        "  class2=class_predict.count(2)\n",
        "  if (class1>class2):\n",
        "    class_final_predict.append(1)\n",
        "    print(\"Predicted Class: 1\",)\n",
        "  else:\n",
        "    class_final_predict.append(2)\n",
        "    print(\"Predicted Class: 2\",)\n",
        "\n",
        "  print(\"-----------------------------------\")  \n",
        "  class_predict=[]\n",
        "  distance=[]\n",
        "\n",
        "\n",
        "print(class_final_predict)\n"
      ],
      "execution_count": null,
      "outputs": [
        {
          "output_type": "stream",
          "text": [
            "Test Point: 3 7\n",
            "Distance 1 : 9\n",
            "Class 1 : 1\n",
            "Distance 2 : 9\n",
            "Class 2 : 2\n",
            "Distance 3 : 10\n",
            "Class 3 : 1\n",
            "Predicted Class: 1\n",
            "-----------------------------------\n",
            "Test Point: 7 7\n",
            "Distance 1 : 0\n",
            "Class 1 : 1\n",
            "Distance 2 : 1\n",
            "Class 2 : 1\n",
            "Distance 3 : 1\n",
            "Class 3 : 1\n",
            "Predicted Class: 1\n",
            "-----------------------------------\n",
            "Test Point: 4 3\n",
            "Distance 1 : 0\n",
            "Class 1 : 2\n",
            "Distance 2 : 1\n",
            "Class 2 : 2\n",
            "Distance 3 : 1\n",
            "Class 3 : 2\n",
            "Predicted Class: 2\n",
            "-----------------------------------\n",
            "Test Point: 2 8\n",
            "Distance 1 : 17\n",
            "Class 1 : 1\n",
            "Distance 2 : 17\n",
            "Class 2 : 2\n",
            "Distance 3 : 17\n",
            "Class 3 : 2\n",
            "Predicted Class: 2\n",
            "-----------------------------------\n",
            "Test Point: 3 5\n",
            "Distance 1 : 1\n",
            "Class 1 : 2\n",
            "Distance 2 : 2\n",
            "Class 2 : 2\n",
            "Distance 3 : 4\n",
            "Class 3 : 2\n",
            "Predicted Class: 2\n",
            "-----------------------------------\n",
            "Test Point: 1 2\n",
            "Distance 1 : 2\n",
            "Class 1 : 2\n",
            "Distance 2 : 4\n",
            "Class 2 : 2\n",
            "Distance 3 : 4\n",
            "Class 3 : 2\n",
            "Predicted Class: 2\n",
            "-----------------------------------\n",
            "Test Point: 4 8\n",
            "Distance 1 : 5\n",
            "Class 1 : 1\n",
            "Distance 2 : 8\n",
            "Class 2 : 1\n",
            "Distance 3 : 10\n",
            "Class 3 : 1\n",
            "Predicted Class: 1\n",
            "-----------------------------------\n",
            "Test Point: 8 3\n",
            "Distance 1 : 2\n",
            "Class 1 : 1\n",
            "Distance 2 : 5\n",
            "Class 2 : 1\n",
            "Distance 3 : 5\n",
            "Class 3 : 1\n",
            "Predicted Class: 1\n",
            "-----------------------------------\n",
            "Test Point: 8 4\n",
            "Distance 1 : 1\n",
            "Class 1 : 1\n",
            "Distance 2 : 2\n",
            "Class 2 : 1\n",
            "Distance 3 : 4\n",
            "Class 3 : 1\n",
            "Predicted Class: 1\n",
            "-----------------------------------\n",
            "[1, 1, 2, 2, 2, 2, 1, 1, 1]\n"
          ],
          "name": "stdout"
        }
      ]
    },
    {
      "cell_type": "code",
      "metadata": {
        "id": "8-Kaby10m_pa"
      },
      "source": [
        "test_data['class']=class_final_predict"
      ],
      "execution_count": null,
      "outputs": []
    },
    {
      "cell_type": "code",
      "metadata": {
        "colab": {
          "base_uri": "https://localhost:8080/",
          "height": 318
        },
        "id": "VxlQVs3Zsgrj",
        "outputId": "da2871c3-e191-45e1-dfec-8d1c13464c6f"
      },
      "source": [
        "test_data"
      ],
      "execution_count": null,
      "outputs": [
        {
          "output_type": "execute_result",
          "data": {
            "text/html": [
              "<div>\n",
              "<style scoped>\n",
              "    .dataframe tbody tr th:only-of-type {\n",
              "        vertical-align: middle;\n",
              "    }\n",
              "\n",
              "    .dataframe tbody tr th {\n",
              "        vertical-align: top;\n",
              "    }\n",
              "\n",
              "    .dataframe thead th {\n",
              "        text-align: right;\n",
              "    }\n",
              "</style>\n",
              "<table border=\"1\" class=\"dataframe\">\n",
              "  <thead>\n",
              "    <tr style=\"text-align: right;\">\n",
              "      <th></th>\n",
              "      <th>x1</th>\n",
              "      <th>y1</th>\n",
              "      <th>class</th>\n",
              "    </tr>\n",
              "  </thead>\n",
              "  <tbody>\n",
              "    <tr>\n",
              "      <th>0</th>\n",
              "      <td>3</td>\n",
              "      <td>7</td>\n",
              "      <td>1</td>\n",
              "    </tr>\n",
              "    <tr>\n",
              "      <th>1</th>\n",
              "      <td>7</td>\n",
              "      <td>7</td>\n",
              "      <td>1</td>\n",
              "    </tr>\n",
              "    <tr>\n",
              "      <th>2</th>\n",
              "      <td>4</td>\n",
              "      <td>3</td>\n",
              "      <td>2</td>\n",
              "    </tr>\n",
              "    <tr>\n",
              "      <th>3</th>\n",
              "      <td>2</td>\n",
              "      <td>8</td>\n",
              "      <td>2</td>\n",
              "    </tr>\n",
              "    <tr>\n",
              "      <th>4</th>\n",
              "      <td>3</td>\n",
              "      <td>5</td>\n",
              "      <td>2</td>\n",
              "    </tr>\n",
              "    <tr>\n",
              "      <th>5</th>\n",
              "      <td>1</td>\n",
              "      <td>2</td>\n",
              "      <td>2</td>\n",
              "    </tr>\n",
              "    <tr>\n",
              "      <th>6</th>\n",
              "      <td>4</td>\n",
              "      <td>8</td>\n",
              "      <td>1</td>\n",
              "    </tr>\n",
              "    <tr>\n",
              "      <th>7</th>\n",
              "      <td>8</td>\n",
              "      <td>3</td>\n",
              "      <td>1</td>\n",
              "    </tr>\n",
              "    <tr>\n",
              "      <th>8</th>\n",
              "      <td>8</td>\n",
              "      <td>4</td>\n",
              "      <td>1</td>\n",
              "    </tr>\n",
              "  </tbody>\n",
              "</table>\n",
              "</div>"
            ],
            "text/plain": [
              "   x1  y1  class\n",
              "0   3   7      1\n",
              "1   7   7      1\n",
              "2   4   3      2\n",
              "3   2   8      2\n",
              "4   3   5      2\n",
              "5   1   2      2\n",
              "6   4   8      1\n",
              "7   8   3      1\n",
              "8   8   4      1"
            ]
          },
          "metadata": {
            "tags": []
          },
          "execution_count": 53
        }
      ]
    },
    {
      "cell_type": "code",
      "metadata": {
        "id": "P1WmfDlYsiC5"
      },
      "source": [
        "#Defining 4 Lists for Train Class 1 and Class 2\r\n",
        "test_class1_x=[]\r\n",
        "test_class1_y=[]\r\n",
        "test_class2_x=[]\r\n",
        "test_class2_y=[]\r\n",
        "\r\n",
        "#Filtering The Class 1 and Class 2 coordinates\r\n",
        "for i in range(0,RowNumberTest):\r\n",
        "    y=test_data.at[i,'class']\r\n",
        "    if(y==1):\r\n",
        "      test_class1_x.append(test_data.at[i,'x1'])\r\n",
        "      test_class1_y.append(test_data.at[i,'y1'])\r\n",
        "    else:\r\n",
        "      test_class2_x.append(test_data.at[i,'x1'])\r\n",
        "      test_class2_y.append(test_data.at[i,'y1'])"
      ],
      "execution_count": null,
      "outputs": []
    },
    {
      "cell_type": "code",
      "metadata": {
        "colab": {
          "base_uri": "https://localhost:8080/",
          "height": 283
        },
        "id": "Wq0SBH8Asz9x",
        "outputId": "f3455b9a-3db1-4730-d4df-f1ad389736b3"
      },
      "source": [
        "#Plotting The Measured Train Class Points with Appropriate Marker\r\n",
        "plt.plot(test_class1_x,test_class1_y, 'ro', markersize=12,label=\"Test Class 1\")\r\n",
        "plt.plot(test_class2_x,test_class2_y, 'b*', markersize=12,label=\"Test Class 2\")\r\n",
        "plt.legend(bbox_to_anchor=(1, 1), loc=\"upper left\")"
      ],
      "execution_count": null,
      "outputs": [
        {
          "output_type": "execute_result",
          "data": {
            "text/plain": [
              "<matplotlib.legend.Legend at 0x7f70296b3a50>"
            ]
          },
          "metadata": {
            "tags": []
          },
          "execution_count": 55
        },
        {
          "output_type": "display_data",
          "data": {
            "image/png": "[encoded data removed]",
            "text/plain": [
              "<Figure size 432x288 with 1 Axes>"
            ]
          },
          "metadata": {
            "tags": [],
            "needs_background": "light"
          }
        }
      ]
    },
    {
      "cell_type": "code",
      "metadata": {
        "id": "yamvS2NOs7ja"
      },
      "source": [
        ""
      ],
      "execution_count": null,
      "outputs": []
    }
  ]
}