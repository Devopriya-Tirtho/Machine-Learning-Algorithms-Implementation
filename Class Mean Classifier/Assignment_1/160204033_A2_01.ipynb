{
  "nbformat": 4,
  "nbformat_minor": 0,
  "metadata": {
    "colab": {
      "name": "160204033_A2_01.ipynb",
      "provenance": [],
      "collapsed_sections": []
    },
    "kernelspec": {
      "name": "python3",
      "display_name": "Python 3"
    }
  },
  "cells": [
    {
      "cell_type": "code",
      "metadata": {
        "id": "C3LsUtsJZ4W2"
      },
      "source": [
        "import pandas as pd #importing pandas library\r\n",
        "import numpy as np #inporting numpy library\r\n",
        "import matplotlib.pyplot as plt #importing matplotlib library\r\n"
      ],
      "execution_count": null,
      "outputs": []
    },
    {
      "cell_type": "code",
      "metadata": {
        "id": "diI5WOE2av8I"
      },
      "source": [
        "train_data = pd.read_csv('train.txt', sep=\" \", header=None) #Reading File Named 'train.txt' with Separator ' '\r\n",
        "train_data.columns = [\"x1\", \"y1\", \"class\"] #Giving Column Names"
      ],
      "execution_count": null,
      "outputs": []
    },
    {
      "cell_type": "code",
      "metadata": {
        "colab": {
          "base_uri": "https://localhost:8080/"
        },
        "id": "PDWMA4ERbOsG",
        "outputId": "e864653f-71a2-4e59-c845-e2393c20af8f"
      },
      "source": [
        "print(train_data['x1'])"
      ],
      "execution_count": null,
      "outputs": [
        {
          "output_type": "stream",
          "text": [
            "0     2\n",
            "1     3\n",
            "2    -4\n",
            "3     3\n",
            "4    -1\n",
            "5     2\n",
            "6     4\n",
            "7    -2\n",
            "8     0\n",
            "9    -2\n",
            "10   -1\n",
            "11   -4\n",
            "Name: x1, dtype: int64\n"
          ],
          "name": "stdout"
        }
      ]
    },
    {
      "cell_type": "code",
      "metadata": {
        "colab": {
          "base_uri": "https://localhost:8080/",
          "height": 282
        },
        "id": "8voAirCVbQQz",
        "outputId": "72e6456e-ba15-4e80-c98e-4abdfa633807"
      },
      "source": [
        "plt.plot(train_data['x1'],train_data['y1'],'bo') #Plotting All Train Data"
      ],
      "execution_count": null,
      "outputs": [
        {
          "output_type": "execute_result",
          "data": {
            "text/plain": [
              "[<matplotlib.lines.Line2D at 0x7fde1fbfeb00>]"
            ]
          },
          "metadata": {
            "tags": []
          },
          "execution_count": 47
        },
        {
          "output_type": "display_data",
          "data": {
            "image/png": "[encoded data removed]",
            "text/plain": [
              "<Figure size 432x288 with 1 Axes>"
            ]
          },
          "metadata": {
            "tags": [],
            "needs_background": "light"
          }
        }
      ]
    },
    {
      "cell_type": "code",
      "metadata": {
        "colab": {
          "base_uri": "https://localhost:8080/"
        },
        "id": "oh2paKccbk1X",
        "outputId": "9703b8d3-1cfe-49ba-b7ab-7f4fd9c37812"
      },
      "source": [
        "b=train_data.shape #Finding The Shape of Train Dataset\r\n",
        "print(b[0]) #Printing the  Row Numbers\r\n",
        "RowNumber=b[0] #Assigning Row Numbers in RowNumber\r\n",
        "\r\n",
        "#Defining 4 Lists for Train Class 1 and Class 2\r\n",
        "train_class1_x=[]\r\n",
        "train_class1_y=[]\r\n",
        "train_class2_x=[]\r\n",
        "train_class2_y=[]\r\n",
        "\r\n",
        "#Filtering The Class 1 and Class 2 coordinates\r\n",
        "for i in range(0,RowNumber):\r\n",
        "    y=train_data.at[i,'class']\r\n",
        "    if(y==1):\r\n",
        "      train_class1_x.append(train_data.at[i,'x1'])\r\n",
        "      train_class1_y.append(train_data.at[i,'y1'])\r\n",
        "    else:\r\n",
        "      train_class2_x.append(train_data.at[i,'x1'])\r\n",
        "      train_class2_y.append(train_data.at[i,'y1'])\r\n"
      ],
      "execution_count": null,
      "outputs": [
        {
          "output_type": "stream",
          "text": [
            "12\n"
          ],
          "name": "stdout"
        }
      ]
    },
    {
      "cell_type": "code",
      "metadata": {
        "colab": {
          "base_uri": "https://localhost:8080/",
          "height": 282
        },
        "id": "F5Jm-GQiec5j",
        "outputId": "84ce93df-b31f-44d1-e7d4-cdcdc3572764"
      },
      "source": [
        "#Plotting The Measured Train Class Points with Appropriate Marker\r\n",
        "plt.plot(train_class1_x,train_class1_y, 'ro', markersize=12)\r\n",
        "plt.plot(train_class2_x,train_class2_y, 'b*', markersize=12)"
      ],
      "execution_count": null,
      "outputs": [
        {
          "output_type": "execute_result",
          "data": {
            "text/plain": [
              "[<matplotlib.lines.Line2D at 0x7fde1fa1c4a8>]"
            ]
          },
          "metadata": {
            "tags": []
          },
          "execution_count": 49
        },
        {
          "output_type": "display_data",
          "data": {
            "image/png": "[encoded data removed]",
            "text/plain": [
              "<Figure size 432x288 with 1 Axes>"
            ]
          },
          "metadata": {
            "tags": [],
            "needs_background": "light"
          }
        }
      ]
    },
    {
      "cell_type": "code",
      "metadata": {
        "colab": {
          "base_uri": "https://localhost:8080/"
        },
        "id": "EtAFfSiYergv",
        "outputId": "3caec77a-7702-4f22-cf24-3f8eb779a98d"
      },
      "source": [
        "# Reading Test Dataset and Give Appropriate Column Names\r\n",
        "test_data = pd.read_csv('test.txt', sep=\" \", header=None)\r\n",
        "test_data.columns = [\"x1\", \"y1\", \"class\"]\r\n",
        "\r\n",
        "#Finding The Row Numbers of Test Dataset\r\n",
        "t=test_data.shape\r\n",
        "print(t[0])\r\n",
        "RowNumberTest=t[0]"
      ],
      "execution_count": null,
      "outputs": [
        {
          "output_type": "stream",
          "text": [
            "7\n"
          ],
          "name": "stdout"
        }
      ]
    },
    {
      "cell_type": "code",
      "metadata": {
        "colab": {
          "base_uri": "https://localhost:8080/"
        },
        "id": "I21OdS3xgSYv",
        "outputId": "f0e5904d-0f7d-4d87-9612-3756c50adb3d"
      },
      "source": [
        "# Finding the Mean of Class 1's and Class 2's respective x and y coordinates'\r\n",
        "train_mean_x_class1=np.mean(train_class1_x)\r\n",
        "train_mean_y_class1=np.mean(train_class1_y)\r\n",
        "train_mean_x_class2=np.mean(train_class2_x)\r\n",
        "train_mean_y_class2=np.mean(train_class2_y)\r\n",
        "\r\n",
        "#Printig the Values of Means\r\n",
        "print(train_mean_x_class1)\r\n",
        "print(train_mean_y_class1)\r\n",
        "print(train_mean_x_class2)\r\n",
        "print(train_mean_y_class2)"
      ],
      "execution_count": null,
      "outputs": [
        {
          "output_type": "stream",
          "text": [
            "1.5\n",
            "0.5\n",
            "-1.5\n",
            "2.0\n"
          ],
          "name": "stdout"
        }
      ]
    },
    {
      "cell_type": "code",
      "metadata": {
        "colab": {
          "base_uri": "https://localhost:8080/",
          "height": 282
        },
        "id": "V8F-u62_gxjJ",
        "outputId": "54356a07-5c90-41b6-c3ad-a3f3150a3c51"
      },
      "source": [
        "#Plotting the Mean Class 1's and Class 2's points along with other points with appropriate marker\r\n",
        "plt.plot(train_class1_x,train_class1_y, 'ro', markersize=12)\r\n",
        "plt.plot(train_class2_x,train_class2_y, 'b*', markersize=12)\r\n",
        "plt.plot(train_mean_x_class1,train_mean_y_class1, 'b1', markersize=12)\r\n",
        "plt.plot(train_mean_x_class2,train_mean_y_class2, 'rs', markersize=12)"
      ],
      "execution_count": null,
      "outputs": [
        {
          "output_type": "execute_result",
          "data": {
            "text/plain": [
              "[<matplotlib.lines.Line2D at 0x7fde1f54a358>]"
            ]
          },
          "metadata": {
            "tags": []
          },
          "execution_count": 52
        },
        {
          "output_type": "display_data",
          "data": {
            "image/png": "[encoded data removed]",
            "text/plain": [
              "<Figure size 432x288 with 1 Axes>"
            ]
          },
          "metadata": {
            "tags": [],
            "needs_background": "light"
          }
        }
      ]
    },
    {
      "cell_type": "code",
      "metadata": {
        "id": "76q5wylWhct7"
      },
      "source": [
        "#Taking 2 lists\r\n",
        "g1=[]\r\n",
        "g2=[]\r\n",
        "\r\n",
        "#Findind the Values of g1 and g2 function for each values of x and y coordinates by the help of approapriate Rule\r\n",
        "for i in range(0,RowNumberTest):\r\n",
        "  g1.append(train_mean_x_class1*test_data.at[i,'x1'] + train_mean_y_class1*test_data.at[i,'y1']\r\n",
        "    - (1/2)*(train_mean_x_class1*train_mean_x_class1+train_mean_y_class1*train_mean_y_class1))\r\n",
        "  g2.append(train_mean_x_class2*test_data.at[i,'x1'] + train_mean_y_class2*test_data.at[i,'y1']\r\n",
        "    - (1/2)*(train_mean_x_class2*train_mean_x_class2+train_mean_y_class2*train_mean_y_class2))"
      ],
      "execution_count": null,
      "outputs": []
    },
    {
      "cell_type": "code",
      "metadata": {
        "colab": {
          "base_uri": "https://localhost:8080/"
        },
        "id": "EA3b190Ujxfo",
        "outputId": "0df8e292-8df6-479b-95dd-54984db98235"
      },
      "source": [
        "print(g1)\r\n",
        "print(g2)"
      ],
      "execution_count": null,
      "outputs": [
        {
          "output_type": "stream",
          "text": [
            "[-5.25, 4.25, -3.75, 11.75, 7.25, -0.25, -5.75]\n",
            "[-11.625, -3.625, 1.875, -11.125, -14.125, 0.875, 1.375]\n"
          ],
          "name": "stdout"
        }
      ]
    },
    {
      "cell_type": "code",
      "metadata": {
        "colab": {
          "base_uri": "https://localhost:8080/"
        },
        "id": "7wd0jMRdj0av",
        "outputId": "44f0e596-45b6-4361-8c0c-72b0e2ba5d88"
      },
      "source": [
        "result_class=[]\r\n",
        "\r\n",
        "#Finding the Appropriate Class of Test Dataset's by comparing g1 and g2\r\n",
        "for i,j in zip(g1,g2):\r\n",
        "  if (i>j):\r\n",
        "    result_class.append(1)\r\n",
        "    print(i)\r\n",
        "\r\n",
        "  else:\r\n",
        "    result_class.append(2)\r\n",
        "    print(j)\r\n",
        "print(result_class)\r\n",
        "print(test_data)\r\n",
        "test_data[\"result_class\"] = result_class"
      ],
      "execution_count": null,
      "outputs": [
        {
          "output_type": "stream",
          "text": [
            "-5.25\n",
            "4.25\n",
            "1.875\n",
            "11.75\n",
            "7.25\n",
            "0.875\n",
            "1.375\n",
            "[1, 1, 2, 1, 1, 2, 2]\n",
            "   x1  y1  class\n",
            "0  -1  -5      1\n",
            "1   3   2      1\n",
            "2  -2   1      2\n",
            "3   8   2      1\n",
            "4   6  -1      1\n",
            "5   0   2      1\n",
            "6  -3   0      2\n"
          ],
          "name": "stdout"
        }
      ]
    },
    {
      "cell_type": "code",
      "metadata": {
        "colab": {
          "base_uri": "https://localhost:8080/"
        },
        "id": "Z2JcTyZ4l4-H",
        "outputId": "f22e7543-ed2d-44c3-879f-05f4963916cf"
      },
      "source": [
        "print(test_data)"
      ],
      "execution_count": null,
      "outputs": [
        {
          "output_type": "stream",
          "text": [
            "   x1  y1  class  result_class\n",
            "0  -1  -5      1             1\n",
            "1   3   2      1             1\n",
            "2  -2   1      2             2\n",
            "3   8   2      1             1\n",
            "4   6  -1      1             1\n",
            "5   0   2      1             2\n",
            "6  -3   0      2             2\n"
          ],
          "name": "stdout"
        }
      ]
    },
    {
      "cell_type": "code",
      "metadata": {
        "id": "FkaIadnUl72p"
      },
      "source": [
        "test_class1_x=[]\r\n",
        "test_class1_y=[]\r\n",
        "test_class2_x=[]\r\n",
        "test_class2_y=[]\r\n",
        "\r\n",
        "#Putting The Values of test Class 1's and test Class 2's x and y coordinates' values in appropriate lists\r\n",
        "for i in range(0,RowNumberTest):\r\n",
        "    y=test_data.at[i,'result_class']\r\n",
        "    if(y==1):\r\n",
        "      test_class1_x.append(test_data.at[i,'x1'])\r\n",
        "      test_class1_y.append(test_data.at[i,'y1'])\r\n",
        "    else:\r\n",
        "      test_class2_x.append(test_data.at[i,'x1'])\r\n",
        "      test_class2_y.append(test_data.at[i,'y1'])"
      ],
      "execution_count": null,
      "outputs": []
    },
    {
      "cell_type": "code",
      "metadata": {
        "colab": {
          "base_uri": "https://localhost:8080/",
          "height": 300
        },
        "id": "tRN2iKjgoomO",
        "outputId": "2b33316f-0922-46dd-f418-091f06c8f1d8"
      },
      "source": [
        "#Plotting all train,test points with appropriate markers\r\n",
        "plt.plot(train_class1_x,train_class1_y, 'b*', markersize=5,label='Train Class 1')\r\n",
        "plt.plot(train_class2_x,train_class2_y, 'ro', markersize=5,label='Train Class 2')\r\n",
        "plt.plot(train_mean_x_class1,train_mean_y_class1, 'b1', markersize=5,label='Mean Class 1')\r\n",
        "plt.plot(train_mean_x_class2,train_mean_y_class2, 'rs', markersize=5,label='Mean Class 2')\r\n",
        "plt.plot(test_class1_x,test_class1_y, 'bX', markersize=5,label='Test Class 1')\r\n",
        "plt.plot(test_class2_x,test_class2_y, 'rP', markersize=5,label='Test Class 1')\r\n",
        "plt.legend(bbox_to_anchor=(.7, 1.1), loc=\"upper left\")"
      ],
      "execution_count": null,
      "outputs": [
        {
          "output_type": "execute_result",
          "data": {
            "text/plain": [
              "<matplotlib.legend.Legend at 0x7fde1f4cb048>"
            ]
          },
          "metadata": {
            "tags": []
          },
          "execution_count": 58
        },
        {
          "output_type": "display_data",
          "data": {
            "image/png": "[encoded data removed]",
            "text/plain": [
              "<Figure size 432x288 with 1 Axes>"
            ]
          },
          "metadata": {
            "tags": [],
            "needs_background": "light"
          }
        }
      ]
    },
    {
      "cell_type": "code",
      "metadata": {
        "id": "7KvGsHJcpCaO"
      },
      "source": [
        "accuracy=0\r\n",
        "#Finding the value of correctly classified test points\r\n",
        "for i in range(0,RowNumberTest):\r\n",
        "  if( test_data.at[i,'result_class']==test_data.at[i,'class']):\r\n",
        "    accuracy=accuracy+1"
      ],
      "execution_count": null,
      "outputs": []
    },
    {
      "cell_type": "code",
      "metadata": {
        "colab": {
          "base_uri": "https://localhost:8080/"
        },
        "id": "amJjXsT_p-15",
        "outputId": "e369173e-c0c0-4a18-ae40-4a87eaee29f5"
      },
      "source": [
        "print(accuracy)"
      ],
      "execution_count": null,
      "outputs": [
        {
          "output_type": "stream",
          "text": [
            "6\n"
          ],
          "name": "stdout"
        }
      ]
    },
    {
      "cell_type": "code",
      "metadata": {
        "colab": {
          "base_uri": "https://localhost:8080/"
        },
        "id": "y_zTVNcPqAea",
        "outputId": "324898f0-46fb-4872-e003-39ec2818ab2b"
      },
      "source": [
        "#Finding The Accuracy of the Model\r\n",
        "total_accuracy=(accuracy/RowNumberTest)*100\r\n",
        "print(\"Accuracy of the Model: \",total_accuracy,\"%\")"
      ],
      "execution_count": null,
      "outputs": [
        {
          "output_type": "stream",
          "text": [
            "Accuracy of the Model:  85.71428571428571 %\n"
          ],
          "name": "stdout"
        }
      ]
    },
    {
      "cell_type": "code",
      "metadata": {
        "id": "89g4XPtKqTMW",
        "colab": {
          "base_uri": "https://localhost:8080/"
        },
        "outputId": "22249508-d750-4bf8-8308-df35e53ff634"
      },
      "source": [
        "print(train_data['x1'])"
      ],
      "execution_count": null,
      "outputs": [
        {
          "output_type": "stream",
          "text": [
            "0     2\n",
            "1     3\n",
            "2    -4\n",
            "3     3\n",
            "4    -1\n",
            "5     2\n",
            "6     4\n",
            "7    -2\n",
            "8     0\n",
            "9    -2\n",
            "10   -1\n",
            "11   -4\n",
            "Name: x1, dtype: int64\n"
          ],
          "name": "stdout"
        }
      ]
    },
    {
      "cell_type": "code",
      "metadata": {
        "id": "yQ2kpWqnHs3d"
      },
      "source": [
        "#Finding The Minimum and Maximum Values of X coordinates\r\n",
        "min_x=train_data['x1'].min()\r\n",
        "max_x=test_data['x1'].max()"
      ],
      "execution_count": null,
      "outputs": []
    },
    {
      "cell_type": "code",
      "metadata": {
        "colab": {
          "base_uri": "https://localhost:8080/"
        },
        "id": "-XPsZufxH7Bz",
        "outputId": "af3274ab-37b2-4a37-925a-ac3b608efc8b"
      },
      "source": [
        "#Expanding the values of X coordinates by giving differential range of 0.5\r\n",
        "db_x=np.arange(min_x, max_x, 0.5)\r\n",
        "print(np.arange(min_x, max_x, 0.5))\r\n"
      ],
      "execution_count": null,
      "outputs": [
        {
          "output_type": "stream",
          "text": [
            "[-4.  -3.5 -3.  -2.5 -2.  -1.5 -1.  -0.5  0.   0.5  1.   1.5  2.   2.5\n",
            "  3.   3.5  4.   4.5  5.   5.5  6.   6.5  7.   7.5]\n"
          ],
          "name": "stdout"
        }
      ]
    },
    {
      "cell_type": "code",
      "metadata": {
        "id": "Wfv854EQIbH_"
      },
      "source": [
        "db_y=[]\r\n",
        "\r\n",
        "#Finding the values of corresponding Y coordinate's value by the help of appropriate rule\r\n",
        "for value in db_x:\r\n",
        "  db_y.append(((train_mean_x_class1 - train_mean_x_class2)*value +\r\n",
        "               ((-0.5)*\r\n",
        "                  (train_mean_x_class1**2 + train_mean_y_class1**2 -train_mean_x_class2**2\r\n",
        "    - train_mean_y_class2**2))) / (-(train_mean_y_class1 - train_mean_y_class2)))\r\n"
      ],
      "execution_count": null,
      "outputs": []
    },
    {
      "cell_type": "code",
      "metadata": {
        "colab": {
          "base_uri": "https://localhost:8080/"
        },
        "id": "TBRHKuxnLndB",
        "outputId": "b39ab99f-4648-4281-fac4-15082c16f567"
      },
      "source": [
        "\r\n",
        "print(db_y)"
      ],
      "execution_count": null,
      "outputs": [
        {
          "output_type": "stream",
          "text": [
            "[-6.75, -5.75, -4.75, -3.75, -2.75, -1.75, -0.75, 0.25, 1.25, 2.25, 3.25, 4.25, 5.25, 6.25, 7.25, 8.25, 9.25, 10.25, 11.25, 12.25, 13.25, 14.25, 15.25, 16.25]\n"
          ],
          "name": "stdout"
        }
      ]
    },
    {
      "cell_type": "code",
      "metadata": {
        "colab": {
          "base_uri": "https://localhost:8080/",
          "height": 282
        },
        "id": "-gIlrqzmMN-Y",
        "outputId": "71101be1-31a4-4eea-a94f-f921f344efd9"
      },
      "source": [
        "#Plotting the final Model's point and decision boundary with appropriate marker\r\n",
        "plt.plot(db_x,db_y,label='Decision Boundary',color='black')\r\n",
        "plt.plot(train_class1_x,train_class1_y, 'b*', markersize=5,label='Train Class 1')\r\n",
        "plt.plot(train_class2_x,train_class2_y, 'ro', markersize=5,label='Train Class 2')\r\n",
        "plt.plot(train_mean_x_class1,train_mean_y_class1, 'b1', markersize=5,label='Mean Class 1')\r\n",
        "plt.plot(train_mean_x_class2,train_mean_y_class2, 'rs', markersize=5,label='Mean Class 2')\r\n",
        "plt.plot(test_class1_x,test_class1_y, 'bX', markersize=5,label='Test Class 1')\r\n",
        "plt.plot(test_class2_x,test_class2_y, 'rP', markersize=5,label='Test Class 1')\r\n",
        "plt.legend(bbox_to_anchor=(.4, 1), loc=\"upper right\")\r\n",
        "#plt.plot(db_x,db_y)"
      ],
      "execution_count": null,
      "outputs": [
        {
          "output_type": "execute_result",
          "data": {
            "text/plain": [
              "<matplotlib.legend.Legend at 0x7fde1f4632e8>"
            ]
          },
          "metadata": {
            "tags": []
          },
          "execution_count": 67
        },
        {
          "output_type": "display_data",
          "data": {
            "image/png": "[encoded data removed]",
            "text/plain": [
              "<Figure size 432x288 with 1 Axes>"
            ]
          },
          "metadata": {
            "tags": [],
            "needs_background": "light"
          }
        }
      ]
    },
    {
      "cell_type": "code",
      "metadata": {
        "id": "Gnr1f2DHMYso"
      },
      "source": [
        ""
      ],
      "execution_count": null,
      "outputs": []
    }
  ]
}