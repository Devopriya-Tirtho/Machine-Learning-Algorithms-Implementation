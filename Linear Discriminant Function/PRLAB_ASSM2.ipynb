{
  "nbformat": 4,
  "nbformat_minor": 0,
  "metadata": {
    "colab": {
      "name": "PRLAB_ASSM2.ipynb",
      "provenance": [],
      "collapsed_sections": []
    },
    "kernelspec": {
      "name": "python3",
      "display_name": "Python 3"
    }
  },
  "cells": [
    {
      "cell_type": "code",
      "metadata": {
        "id": "iYYdxB4OW77a"
      },
      "source": [
        "#perceptron\r\n",
        "import pandas as pd\r\n",
        "import numpy as np\r\n",
        "import matplotlib.pyplot as plt"
      ],
      "execution_count": 29,
      "outputs": []
    },
    {
      "cell_type": "code",
      "metadata": {
        "id": "yIzUrF-xXsf2"
      },
      "source": [
        "train_data = pd.read_csv('train-perceptron.txt', sep=\" \", header=None) \r\n",
        "train_data.columns = [\"x1\", \"y1\", \"class\"] "
      ],
      "execution_count": 3,
      "outputs": []
    },
    {
      "cell_type": "code",
      "metadata": {
        "colab": {
          "base_uri": "https://localhost:8080/",
          "height": 235
        },
        "id": "IfvLcfCzYBAO",
        "outputId": "fac25a33-4de0-44db-953c-41b28e0fbc64"
      },
      "source": [
        "train_data"
      ],
      "execution_count": 4,
      "outputs": [
        {
          "output_type": "execute_result",
          "data": {
            "text/html": [
              "<div>\n",
              "<style scoped>\n",
              "    .dataframe tbody tr th:only-of-type {\n",
              "        vertical-align: middle;\n",
              "    }\n",
              "\n",
              "    .dataframe tbody tr th {\n",
              "        vertical-align: top;\n",
              "    }\n",
              "\n",
              "    .dataframe thead th {\n",
              "        text-align: right;\n",
              "    }\n",
              "</style>\n",
              "<table border=\"1\" class=\"dataframe\">\n",
              "  <thead>\n",
              "    <tr style=\"text-align: right;\">\n",
              "      <th></th>\n",
              "      <th>x1</th>\n",
              "      <th>y1</th>\n",
              "      <th>class</th>\n",
              "    </tr>\n",
              "  </thead>\n",
              "  <tbody>\n",
              "    <tr>\n",
              "      <th>0</th>\n",
              "      <td>1</td>\n",
              "      <td>1.0</td>\n",
              "      <td>1</td>\n",
              "    </tr>\n",
              "    <tr>\n",
              "      <th>1</th>\n",
              "      <td>1</td>\n",
              "      <td>-1.0</td>\n",
              "      <td>1</td>\n",
              "    </tr>\n",
              "    <tr>\n",
              "      <th>2</th>\n",
              "      <td>2</td>\n",
              "      <td>2.5</td>\n",
              "      <td>2</td>\n",
              "    </tr>\n",
              "    <tr>\n",
              "      <th>3</th>\n",
              "      <td>0</td>\n",
              "      <td>2.0</td>\n",
              "      <td>2</td>\n",
              "    </tr>\n",
              "    <tr>\n",
              "      <th>4</th>\n",
              "      <td>2</td>\n",
              "      <td>3.0</td>\n",
              "      <td>2</td>\n",
              "    </tr>\n",
              "    <tr>\n",
              "      <th>5</th>\n",
              "      <td>4</td>\n",
              "      <td>5.0</td>\n",
              "      <td>1</td>\n",
              "    </tr>\n",
              "  </tbody>\n",
              "</table>\n",
              "</div>"
            ],
            "text/plain": [
              "   x1   y1  class\n",
              "0   1  1.0      1\n",
              "1   1 -1.0      1\n",
              "2   2  2.5      2\n",
              "3   0  2.0      2\n",
              "4   2  3.0      2\n",
              "5   4  5.0      1"
            ]
          },
          "metadata": {
            "tags": []
          },
          "execution_count": 4
        }
      ]
    },
    {
      "cell_type": "code",
      "metadata": {
        "id": "SDiiZfZFYDCV"
      },
      "source": [
        "train_mat=train_data.to_numpy()\r\n",
        "w_class_1=[]\r\n",
        "w_class_2=[]\r\n",
        "w_class_1_x=[]\r\n",
        "w_class_1_y=[]\r\n",
        "w_class_2_x=[]\r\n",
        "w_class_2_y=[]\r\n",
        "for i in range(6):\r\n",
        "  if train_data.at[i,'class']==1:\r\n",
        "    w_class_1.append(train_data.at[i,'x1'])\r\n",
        "    w_class_1.append(train_data.at[i,'y1'])\r\n",
        "    w_class_1_x.append(train_data.at[i,'x1'])\r\n",
        "    w_class_1_y.append(train_data.at[i,'y1'])\r\n",
        "  else:\r\n",
        "    w_class_2.append(train_data.at[i,'x1'])\r\n",
        "    w_class_2.append(train_data.at[i,'y1'])\r\n",
        "    w_class_2_x.append(train_data.at[i,'x1'])\r\n",
        "    w_class_2_y.append(train_data.at[i,'y1'])\r\n"
      ],
      "execution_count": 42,
      "outputs": []
    },
    {
      "cell_type": "code",
      "metadata": {
        "colab": {
          "base_uri": "https://localhost:8080/"
        },
        "id": "ETBvsNWLYsti",
        "outputId": "4e821ace-222f-4e12-bc34-ed39c932ace5"
      },
      "source": [
        "w_class_1"
      ],
      "execution_count": 6,
      "outputs": [
        {
          "output_type": "execute_result",
          "data": {
            "text/plain": [
              "[1, 1.0, 1, -1.0, 4, 5.0]"
            ]
          },
          "metadata": {
            "tags": []
          },
          "execution_count": 6
        }
      ]
    },
    {
      "cell_type": "code",
      "metadata": {
        "id": "8QA3CKeVYvSZ",
        "colab": {
          "base_uri": "https://localhost:8080/"
        },
        "outputId": "fed4972e-da88-409a-fe0b-86fa77f88a22"
      },
      "source": [
        "w_class_2"
      ],
      "execution_count": 7,
      "outputs": [
        {
          "output_type": "execute_result",
          "data": {
            "text/plain": [
              "[2, 2.5, 0, 2.0, 2, 3.0]"
            ]
          },
          "metadata": {
            "tags": []
          },
          "execution_count": 7
        }
      ]
    },
    {
      "cell_type": "code",
      "metadata": {
        "colab": {
          "base_uri": "https://localhost:8080/",
          "height": 282
        },
        "id": "NV04Fv_KQ9SD",
        "outputId": "d08c8840-f90f-47f1-e516-04bf52d94c79"
      },
      "source": [
        "plt.scatter(w_class_1_x,w_class_1_y, color='blue', marker='o')\r\n",
        "plt.scatter(w_class_2_x,w_class_2_y, color='red', marker='s')"
      ],
      "execution_count": 43,
      "outputs": [
        {
          "output_type": "execute_result",
          "data": {
            "text/plain": [
              "<matplotlib.collections.PathCollection at 0x7ff194800e10>"
            ]
          },
          "metadata": {
            "tags": []
          },
          "execution_count": 43
        },
        {
          "output_type": "display_data",
          "data": {
            "image/png": "[encoded data removed]",
            "text/plain": [
              "<Figure size 432x288 with 1 Axes>"
            ]
          },
          "metadata": {
            "tags": [],
            "needs_background": "light"
          }
        }
      ]
    },
    {
      "cell_type": "code",
      "metadata": {
        "id": "JhjAJZVLHq1A"
      },
      "source": [
        "w_class_1_mat=np.asarray(w_class_1).reshape(3,2)"
      ],
      "execution_count": 8,
      "outputs": []
    },
    {
      "cell_type": "code",
      "metadata": {
        "colab": {
          "base_uri": "https://localhost:8080/"
        },
        "id": "7gFinlqAIWT-",
        "outputId": "976fd666-410c-4fa3-b51d-fcf00690264d"
      },
      "source": [
        "w_class_1_mat"
      ],
      "execution_count": 9,
      "outputs": [
        {
          "output_type": "execute_result",
          "data": {
            "text/plain": [
              "array([[ 1.,  1.],\n",
              "       [ 1., -1.],\n",
              "       [ 4.,  5.]])"
            ]
          },
          "metadata": {
            "tags": []
          },
          "execution_count": 9
        }
      ]
    },
    {
      "cell_type": "code",
      "metadata": {
        "id": "O6ZJ_3K2I60k"
      },
      "source": [
        "w_class_2_mat=np.asarray(w_class_2).reshape(3,2)"
      ],
      "execution_count": 10,
      "outputs": []
    },
    {
      "cell_type": "code",
      "metadata": {
        "colab": {
          "base_uri": "https://localhost:8080/"
        },
        "id": "yPxYMRyBI-gb",
        "outputId": "4568782e-abb5-4fb0-dbbe-e990cbbea74b"
      },
      "source": [
        "w_class_2_mat"
      ],
      "execution_count": 11,
      "outputs": [
        {
          "output_type": "execute_result",
          "data": {
            "text/plain": [
              "array([[2. , 2.5],\n",
              "       [0. , 2. ],\n",
              "       [2. , 3. ]])"
            ]
          },
          "metadata": {
            "tags": []
          },
          "execution_count": 11
        }
      ]
    },
    {
      "cell_type": "code",
      "metadata": {
        "id": "nFIuorYFJA4h"
      },
      "source": [
        "phi_class_1=[]\r\n",
        "for i in range (3):\r\n",
        "    phi_class_1.append(w_class_1_mat[i,0]*w_class_1_mat[i,0])\r\n",
        "    phi_class_1.append(w_class_1_mat[i,1]*w_class_1_mat[i,1])\r\n",
        "    phi_class_1.append(w_class_1_mat[i,0]*w_class_1_mat[i,1])\r\n",
        "    phi_class_1.append(w_class_1_mat[i,0])\r\n",
        "    phi_class_1.append(w_class_1_mat[i,1])\r\n",
        "    phi_class_1.append(1)"
      ],
      "execution_count": 12,
      "outputs": []
    },
    {
      "cell_type": "code",
      "metadata": {
        "id": "3JZs_nlYe2_2"
      },
      "source": [
        "phi_class_1\r\n",
        "phi_class_1_mat=np.asarray(phi_class_1).reshape(3,6)"
      ],
      "execution_count": 13,
      "outputs": []
    },
    {
      "cell_type": "code",
      "metadata": {
        "id": "7uYV9lq-fQ73"
      },
      "source": [
        "phi_class_2=[]\r\n",
        "for i in range (3):\r\n",
        "    phi_class_2.append(w_class_2_mat[i,0]*w_class_2_mat[i,0])\r\n",
        "    phi_class_2.append(w_class_2_mat[i,1]*w_class_2_mat[i,1])\r\n",
        "    phi_class_2.append(w_class_2_mat[i,0]*w_class_2_mat[i,1])\r\n",
        "    phi_class_2.append(w_class_2_mat[i,0])\r\n",
        "    phi_class_2.append(w_class_2_mat[i,1])\r\n",
        "    phi_class_2.append(1)"
      ],
      "execution_count": 14,
      "outputs": []
    },
    {
      "cell_type": "code",
      "metadata": {
        "id": "mEEMJ1M4fcGg"
      },
      "source": [
        "phi_class_2\r\n",
        "phi_class_2_mat=np.asarray(phi_class_2).reshape(3,6)"
      ],
      "execution_count": 15,
      "outputs": []
    },
    {
      "cell_type": "code",
      "metadata": {
        "colab": {
          "base_uri": "https://localhost:8080/"
        },
        "id": "XTuxF6gzfc3_",
        "outputId": "c2d5a15a-eff4-4326-d871-6881fb85f649"
      },
      "source": [
        "phi_class_2_mat"
      ],
      "execution_count": 16,
      "outputs": [
        {
          "output_type": "execute_result",
          "data": {
            "text/plain": [
              "array([[4.  , 6.25, 5.  , 2.  , 2.5 , 1.  ],\n",
              "       [0.  , 4.  , 0.  , 0.  , 2.  , 1.  ],\n",
              "       [4.  , 9.  , 6.  , 2.  , 3.  , 1.  ]])"
            ]
          },
          "metadata": {
            "tags": []
          },
          "execution_count": 16
        }
      ]
    },
    {
      "cell_type": "code",
      "metadata": {
        "id": "N8GBO9olfrwT"
      },
      "source": [
        "phi_class_2_mat=phi_class_2_mat*-1"
      ],
      "execution_count": 17,
      "outputs": []
    },
    {
      "cell_type": "code",
      "metadata": {
        "colab": {
          "base_uri": "https://localhost:8080/"
        },
        "id": "5zJQR-U_fxSU",
        "outputId": "5e47fda9-aad1-41a9-f607-7c681552252f"
      },
      "source": [
        "phi_class_2_mat"
      ],
      "execution_count": 18,
      "outputs": [
        {
          "output_type": "execute_result",
          "data": {
            "text/plain": [
              "array([[-4.  , -6.25, -5.  , -2.  , -2.5 , -1.  ],\n",
              "       [-0.  , -4.  , -0.  , -0.  , -2.  , -1.  ],\n",
              "       [-4.  , -9.  , -6.  , -2.  , -3.  , -1.  ]])"
            ]
          },
          "metadata": {
            "tags": []
          },
          "execution_count": 18
        }
      ]
    },
    {
      "cell_type": "code",
      "metadata": {
        "id": "NZhvqmbJfzjA"
      },
      "source": [
        "input=np.vstack((phi_class_1_mat,phi_class_2_mat))"
      ],
      "execution_count": 19,
      "outputs": []
    },
    {
      "cell_type": "code",
      "metadata": {
        "colab": {
          "base_uri": "https://localhost:8080/"
        },
        "id": "IgAjTQKFgHFO",
        "outputId": "484f687e-328b-44dd-bffa-ff16b90d5cc4"
      },
      "source": [
        "input"
      ],
      "execution_count": 20,
      "outputs": [
        {
          "output_type": "execute_result",
          "data": {
            "text/plain": [
              "array([[ 1.  ,  1.  ,  1.  ,  1.  ,  1.  ,  1.  ],\n",
              "       [ 1.  ,  1.  , -1.  ,  1.  , -1.  ,  1.  ],\n",
              "       [16.  , 25.  , 20.  ,  4.  ,  5.  ,  1.  ],\n",
              "       [-4.  , -6.25, -5.  , -2.  , -2.5 , -1.  ],\n",
              "       [-0.  , -4.  , -0.  , -0.  , -2.  , -1.  ],\n",
              "       [-4.  , -9.  , -6.  , -2.  , -3.  , -1.  ]])"
            ]
          },
          "metadata": {
            "tags": []
          },
          "execution_count": 20
        }
      ]
    },
    {
      "cell_type": "code",
      "metadata": {
        "id": "-m_yUnBmgSiG",
        "colab": {
          "base_uri": "https://localhost:8080/",
          "height": 359
        },
        "outputId": "775905c7-0c19-40f5-de0d-6f1ac11c49bf"
      },
      "source": [
        "#For initial weight of all 1\r\n",
        "learning_rate = np.array([0.1, 0.2, 0.3, 0.4, 0.5, 0.6, 0.7, 0.8, 0.9, 1.0])\r\n",
        "\r\n",
        "report = []\r\n",
        "\r\n",
        "\r\n",
        "for alpha in learning_rate:\r\n",
        "    OneIteration = 0\r\n",
        "    weight = np.float64(np.array([1, 1, 1, 1, 1, 1]))\r\n",
        "  \r\n",
        "\r\n",
        "    while True:\r\n",
        "        OneIteration = OneIteration+1\r\n",
        "        MissClassifiedOne = False\r\n",
        "\r\n",
        "        for i in range(0, 6):\r\n",
        "            g = np.dot(weight, input[i])\r\n",
        "            \r\n",
        "            if(g<=0):\r\n",
        "                weight = weight + np.dot(input[i], alpha)\r\n",
        "                MissClassifiedOne = True\r\n",
        "\r\n",
        "        if(MissClassifiedOne == False):\r\n",
        "            break\r\n",
        "    \r\n",
        "\r\n",
        "    ManyIteration=0\r\n",
        "    weight = np.float64(np.array([1, 1, 1, 1, 1, 1]))\r\n",
        "\r\n",
        "    while True:\r\n",
        "\r\n",
        "        temp=np.float64(np.array([0 , 0 , 0 , 0 , 0 , 0]))\r\n",
        "        ManyIteration=ManyIteration+1\r\n",
        "        MissClassifiedMany=False\r\n",
        "        for i in range (0,6):\r\n",
        "\r\n",
        "            g=np.dot(weight,input[i])\r\n",
        "\r\n",
        "\r\n",
        "            if (g<=0):\r\n",
        "                temp+=np.dot(input[i],alpha)\r\n",
        "                MissClassifiedMany=True\r\n",
        "        weight=weight+temp\r\n",
        "        \r\n",
        "\r\n",
        "        if (MissClassifiedMany==False):\r\n",
        "            break\r\n",
        "\r\n",
        "    report.append([alpha,OneIteration, ManyIteration])\r\n",
        "\r\n",
        "report=np.array(report)\r\n",
        "final = pd.DataFrame({'alpha': report[:, 0], 'One at a time': report[:, 1], 'Many at a time': report[:, 2]})\r\n",
        "final"
      ],
      "execution_count": 33,
      "outputs": [
        {
          "output_type": "execute_result",
          "data": {
            "text/html": [
              "<div>\n",
              "<style scoped>\n",
              "    .dataframe tbody tr th:only-of-type {\n",
              "        vertical-align: middle;\n",
              "    }\n",
              "\n",
              "    .dataframe tbody tr th {\n",
              "        vertical-align: top;\n",
              "    }\n",
              "\n",
              "    .dataframe thead th {\n",
              "        text-align: right;\n",
              "    }\n",
              "</style>\n",
              "<table border=\"1\" class=\"dataframe\">\n",
              "  <thead>\n",
              "    <tr style=\"text-align: right;\">\n",
              "      <th></th>\n",
              "      <th>alpha</th>\n",
              "      <th>One at a time</th>\n",
              "      <th>Many at a time</th>\n",
              "    </tr>\n",
              "  </thead>\n",
              "  <tbody>\n",
              "    <tr>\n",
              "      <th>0</th>\n",
              "      <td>0.1</td>\n",
              "      <td>6.0</td>\n",
              "      <td>102.0</td>\n",
              "    </tr>\n",
              "    <tr>\n",
              "      <th>1</th>\n",
              "      <td>0.2</td>\n",
              "      <td>92.0</td>\n",
              "      <td>104.0</td>\n",
              "    </tr>\n",
              "    <tr>\n",
              "      <th>2</th>\n",
              "      <td>0.3</td>\n",
              "      <td>104.0</td>\n",
              "      <td>91.0</td>\n",
              "    </tr>\n",
              "    <tr>\n",
              "      <th>3</th>\n",
              "      <td>0.4</td>\n",
              "      <td>106.0</td>\n",
              "      <td>116.0</td>\n",
              "    </tr>\n",
              "    <tr>\n",
              "      <th>4</th>\n",
              "      <td>0.5</td>\n",
              "      <td>93.0</td>\n",
              "      <td>105.0</td>\n",
              "    </tr>\n",
              "    <tr>\n",
              "      <th>5</th>\n",
              "      <td>0.6</td>\n",
              "      <td>93.0</td>\n",
              "      <td>114.0</td>\n",
              "    </tr>\n",
              "    <tr>\n",
              "      <th>6</th>\n",
              "      <td>0.7</td>\n",
              "      <td>108.0</td>\n",
              "      <td>91.0</td>\n",
              "    </tr>\n",
              "    <tr>\n",
              "      <th>7</th>\n",
              "      <td>0.8</td>\n",
              "      <td>115.0</td>\n",
              "      <td>91.0</td>\n",
              "    </tr>\n",
              "    <tr>\n",
              "      <th>8</th>\n",
              "      <td>0.9</td>\n",
              "      <td>94.0</td>\n",
              "      <td>105.0</td>\n",
              "    </tr>\n",
              "    <tr>\n",
              "      <th>9</th>\n",
              "      <td>1.0</td>\n",
              "      <td>94.0</td>\n",
              "      <td>93.0</td>\n",
              "    </tr>\n",
              "  </tbody>\n",
              "</table>\n",
              "</div>"
            ],
            "text/plain": [
              "   alpha  One at a time  Many at a time\n",
              "0    0.1            6.0           102.0\n",
              "1    0.2           92.0           104.0\n",
              "2    0.3          104.0            91.0\n",
              "3    0.4          106.0           116.0\n",
              "4    0.5           93.0           105.0\n",
              "5    0.6           93.0           114.0\n",
              "6    0.7          108.0            91.0\n",
              "7    0.8          115.0            91.0\n",
              "8    0.9           94.0           105.0\n",
              "9    1.0           94.0            93.0"
            ]
          },
          "metadata": {
            "tags": []
          },
          "execution_count": 33
        }
      ]
    },
    {
      "cell_type": "code",
      "metadata": {
        "colab": {
          "base_uri": "https://localhost:8080/",
          "height": 295
        },
        "id": "3xqE4_kLPnrP",
        "outputId": "64877ca1-7f64-4e61-ff29-7ba0631e8a67"
      },
      "source": [
        "width = 0.035\r\n",
        "fig,ax = plt.subplots()\r\n",
        "ax.bar(learning_rate - width/2, final['One at a time'], width=0.035, label='One at a time')\r\n",
        "\r\n",
        "ax.bar(learning_rate + width/2, final['Many at a time'], width=0.035, label='Many at a time')\r\n",
        "\r\n",
        "ax.set_ylabel('Iteration')\r\n",
        "ax.set_xlabel('Learning rates')\r\n",
        "ax.set_title('Comparison between One at a time vs Many at a time')\r\n",
        "ax.set_xticks(learning_rate)\r\n",
        "ax.legend()\r\n",
        "plt.show()"
      ],
      "execution_count": 34,
      "outputs": [
        {
          "output_type": "display_data",
          "data": {
            "image/png": "[encoded data removed]",
            "text/plain": [
              "<Figure size 432x288 with 1 Axes>"
            ]
          },
          "metadata": {
            "tags": [],
            "needs_background": "light"
          }
        }
      ]
    },
    {
      "cell_type": "code",
      "metadata": {
        "colab": {
          "base_uri": "https://localhost:8080/",
          "height": 359
        },
        "id": "mNTIhu-rPy-M",
        "outputId": "8d182ead-5341-447e-c0c8-1c3a30714ad9"
      },
      "source": [
        "#For initial weight of all 0\r\n",
        "learning_rate = np.array([0.1, 0.2, 0.3, 0.4, 0.5, 0.6, 0.7, 0.8, 0.9, 1.0])\r\n",
        "\r\n",
        "report = []\r\n",
        "\r\n",
        "\r\n",
        "for alpha in learning_rate:\r\n",
        "    OneIteration = 0\r\n",
        "    weight = np.float64(np.array([0, 0, 0, 0, 0, 0]))\r\n",
        "  \r\n",
        "\r\n",
        "    while True:\r\n",
        "        OneIteration = OneIteration+1\r\n",
        "        MissClassifiedOne = False\r\n",
        "\r\n",
        "        for i in range(0, 6):\r\n",
        "            g = np.dot(weight, input[i])\r\n",
        "            \r\n",
        "            if(g<=0):\r\n",
        "                weight = weight + np.dot(input[i], alpha)\r\n",
        "                MissClassifiedOne = True\r\n",
        "\r\n",
        "        if(MissClassifiedOne == False):\r\n",
        "            break\r\n",
        "    \r\n",
        "\r\n",
        "    ManyIteration=0\r\n",
        "    weight = np.float64(np.array([0, 0, 0, 0, 0, 0]))\r\n",
        "\r\n",
        "    while True:\r\n",
        "\r\n",
        "        temp=np.float64(np.array([0 , 0 , 0 , 0 , 0 , 0]))\r\n",
        "        ManyIteration=ManyIteration+1\r\n",
        "        MissClassifiedMany=False\r\n",
        "        for i in range (0,6):\r\n",
        "\r\n",
        "            g=np.dot(weight,input[i])\r\n",
        "\r\n",
        "\r\n",
        "            if (g<=0):\r\n",
        "                temp+=np.dot(input[i],alpha)\r\n",
        "                MissClassifiedMany=True\r\n",
        "        weight=weight+temp\r\n",
        "        \r\n",
        "\r\n",
        "        if (MissClassifiedMany==False):\r\n",
        "            break\r\n",
        "\r\n",
        "    report.append([alpha,OneIteration, ManyIteration])\r\n",
        "\r\n",
        "report=np.array(report)\r\n",
        "final = pd.DataFrame({'alpha': report[:, 0], 'One at a time': report[:, 1], 'Many at a time': report[:, 2]})\r\n",
        "final"
      ],
      "execution_count": 35,
      "outputs": [
        {
          "output_type": "execute_result",
          "data": {
            "text/html": [
              "<div>\n",
              "<style scoped>\n",
              "    .dataframe tbody tr th:only-of-type {\n",
              "        vertical-align: middle;\n",
              "    }\n",
              "\n",
              "    .dataframe tbody tr th {\n",
              "        vertical-align: top;\n",
              "    }\n",
              "\n",
              "    .dataframe thead th {\n",
              "        text-align: right;\n",
              "    }\n",
              "</style>\n",
              "<table border=\"1\" class=\"dataframe\">\n",
              "  <thead>\n",
              "    <tr style=\"text-align: right;\">\n",
              "      <th></th>\n",
              "      <th>alpha</th>\n",
              "      <th>One at a time</th>\n",
              "      <th>Many at a time</th>\n",
              "    </tr>\n",
              "  </thead>\n",
              "  <tbody>\n",
              "    <tr>\n",
              "      <th>0</th>\n",
              "      <td>0.1</td>\n",
              "      <td>94.0</td>\n",
              "      <td>105.0</td>\n",
              "    </tr>\n",
              "    <tr>\n",
              "      <th>1</th>\n",
              "      <td>0.2</td>\n",
              "      <td>94.0</td>\n",
              "      <td>105.0</td>\n",
              "    </tr>\n",
              "    <tr>\n",
              "      <th>2</th>\n",
              "      <td>0.3</td>\n",
              "      <td>94.0</td>\n",
              "      <td>92.0</td>\n",
              "    </tr>\n",
              "    <tr>\n",
              "      <th>3</th>\n",
              "      <td>0.4</td>\n",
              "      <td>94.0</td>\n",
              "      <td>105.0</td>\n",
              "    </tr>\n",
              "    <tr>\n",
              "      <th>4</th>\n",
              "      <td>0.5</td>\n",
              "      <td>94.0</td>\n",
              "      <td>92.0</td>\n",
              "    </tr>\n",
              "    <tr>\n",
              "      <th>5</th>\n",
              "      <td>0.6</td>\n",
              "      <td>94.0</td>\n",
              "      <td>92.0</td>\n",
              "    </tr>\n",
              "    <tr>\n",
              "      <th>6</th>\n",
              "      <td>0.7</td>\n",
              "      <td>94.0</td>\n",
              "      <td>92.0</td>\n",
              "    </tr>\n",
              "    <tr>\n",
              "      <th>7</th>\n",
              "      <td>0.8</td>\n",
              "      <td>94.0</td>\n",
              "      <td>105.0</td>\n",
              "    </tr>\n",
              "    <tr>\n",
              "      <th>8</th>\n",
              "      <td>0.9</td>\n",
              "      <td>94.0</td>\n",
              "      <td>105.0</td>\n",
              "    </tr>\n",
              "    <tr>\n",
              "      <th>9</th>\n",
              "      <td>1.0</td>\n",
              "      <td>94.0</td>\n",
              "      <td>92.0</td>\n",
              "    </tr>\n",
              "  </tbody>\n",
              "</table>\n",
              "</div>"
            ],
            "text/plain": [
              "   alpha  One at a time  Many at a time\n",
              "0    0.1           94.0           105.0\n",
              "1    0.2           94.0           105.0\n",
              "2    0.3           94.0            92.0\n",
              "3    0.4           94.0           105.0\n",
              "4    0.5           94.0            92.0\n",
              "5    0.6           94.0            92.0\n",
              "6    0.7           94.0            92.0\n",
              "7    0.8           94.0           105.0\n",
              "8    0.9           94.0           105.0\n",
              "9    1.0           94.0            92.0"
            ]
          },
          "metadata": {
            "tags": []
          },
          "execution_count": 35
        }
      ]
    },
    {
      "cell_type": "code",
      "metadata": {
        "colab": {
          "base_uri": "https://localhost:8080/",
          "height": 295
        },
        "id": "Sge0YCaBP46-",
        "outputId": "93a59088-fb91-45b3-df8c-610d2e1a7e9e"
      },
      "source": [
        "width = 0.035\r\n",
        "fig,ax = plt.subplots()\r\n",
        "ax.bar(learning_rate - width/2, final['One at a time'], width=0.035, label='One at a time')\r\n",
        "\r\n",
        "ax.bar(learning_rate + width/2, final['Many at a time'], width=0.035, label='Many at a time')\r\n",
        "\r\n",
        "ax.set_ylabel('Iteration')\r\n",
        "ax.set_xlabel('Learning rates')\r\n",
        "ax.set_title('Comparison between One at a time vs Many at a time')\r\n",
        "ax.set_xticks(learning_rate)\r\n",
        "ax.legend()\r\n",
        "plt.show()"
      ],
      "execution_count": 36,
      "outputs": [
        {
          "output_type": "display_data",
          "data": {
            "image/png": "[encoded data removed]",
            "text/plain": [
              "<Figure size 432x288 with 1 Axes>"
            ]
          },
          "metadata": {
            "tags": [],
            "needs_background": "light"
          }
        }
      ]
    },
    {
      "cell_type": "code",
      "metadata": {
        "id": "E3RWcr8wP_ki"
      },
      "source": [
        "import random \r\n",
        "  \r\n",
        "random.seed(3) \r\n",
        "  \r\n",
        "\r\n",
        "\r\n",
        "a=(random.randint(1, 10))\r\n",
        "b=(random.randint(1, 10))\r\n",
        "c=(random.randint(1, 10))\r\n",
        "d=(random.randint(1, 10))\r\n",
        "e=(random.randint(1, 10))\r\n",
        "f=(random.randint(1, 10))"
      ],
      "execution_count": 37,
      "outputs": []
    },
    {
      "cell_type": "code",
      "metadata": {
        "colab": {
          "base_uri": "https://localhost:8080/"
        },
        "id": "jcuNJICzQAHf",
        "outputId": "12382025-8ab7-4b59-8ab0-7ef870e1fbe1"
      },
      "source": [
        "print(a,b,c,d,e,f)"
      ],
      "execution_count": 38,
      "outputs": [
        {
          "output_type": "stream",
          "text": [
            "4 10 9 3 6 10\n"
          ],
          "name": "stdout"
        }
      ]
    },
    {
      "cell_type": "code",
      "metadata": {
        "colab": {
          "base_uri": "https://localhost:8080/",
          "height": 359
        },
        "id": "sikyK5l5QBvT",
        "outputId": "8ab31a1a-4843-4ff5-82ad-22aaf19fdb07"
      },
      "source": [
        "#For initial weight of all random seed\r\n",
        "learning_rate = np.array([0.1, 0.2, 0.3, 0.4, 0.5, 0.6, 0.7, 0.8, 0.9, 1.0])\r\n",
        "\r\n",
        "report = []\r\n",
        "\r\n",
        "\r\n",
        "for alpha in learning_rate:\r\n",
        "    OneIteration = 0\r\n",
        "    weight = np.float64(np.array([a, b, c, d, e, f]))\r\n",
        "  \r\n",
        "\r\n",
        "    while True:\r\n",
        "        OneIteration = OneIteration+1\r\n",
        "        MissClassifiedOne = False\r\n",
        "\r\n",
        "        for i in range(0, 6):\r\n",
        "            g = np.dot(weight, input[i])\r\n",
        "            \r\n",
        "            if(g<=0):\r\n",
        "                weight = weight + np.dot(input[i], alpha)\r\n",
        "                MissClassifiedOne = True\r\n",
        "\r\n",
        "        if(MissClassifiedOne == False):\r\n",
        "            break\r\n",
        "    \r\n",
        "\r\n",
        "    ManyIteration=0\r\n",
        "    weight = np.float64(np.array([a, b, c, d, e, f]))\r\n",
        "\r\n",
        "    while True:\r\n",
        "\r\n",
        "        temp=np.float64(np.array([0 , 0 , 0 , 0 , 0 , 0]))\r\n",
        "        ManyIteration=ManyIteration+1\r\n",
        "        MissClassifiedMany=False\r\n",
        "        for i in range (0,6):\r\n",
        "\r\n",
        "            g=np.dot(weight,input[i])\r\n",
        "\r\n",
        "\r\n",
        "            if (g<=0):\r\n",
        "                temp+=np.dot(input[i],alpha)\r\n",
        "                MissClassifiedMany=True\r\n",
        "        weight=weight+temp\r\n",
        "        \r\n",
        "\r\n",
        "        if (MissClassifiedMany==False):\r\n",
        "            break\r\n",
        "\r\n",
        "    report.append([alpha,OneIteration, ManyIteration])\r\n",
        "\r\n",
        "report=np.array(report)\r\n",
        "final = pd.DataFrame({'alpha': report[:, 0], 'One at a time': report[:, 1], 'Many at a time': report[:, 2]})\r\n",
        "final"
      ],
      "execution_count": 39,
      "outputs": [
        {
          "output_type": "execute_result",
          "data": {
            "text/html": [
              "<div>\n",
              "<style scoped>\n",
              "    .dataframe tbody tr th:only-of-type {\n",
              "        vertical-align: middle;\n",
              "    }\n",
              "\n",
              "    .dataframe tbody tr th {\n",
              "        vertical-align: top;\n",
              "    }\n",
              "\n",
              "    .dataframe thead th {\n",
              "        text-align: right;\n",
              "    }\n",
              "</style>\n",
              "<table border=\"1\" class=\"dataframe\">\n",
              "  <thead>\n",
              "    <tr style=\"text-align: right;\">\n",
              "      <th></th>\n",
              "      <th>alpha</th>\n",
              "      <th>One at a time</th>\n",
              "      <th>Many at a time</th>\n",
              "    </tr>\n",
              "  </thead>\n",
              "  <tbody>\n",
              "    <tr>\n",
              "      <th>0</th>\n",
              "      <td>0.1</td>\n",
              "      <td>33.0</td>\n",
              "      <td>48.0</td>\n",
              "    </tr>\n",
              "    <tr>\n",
              "      <th>1</th>\n",
              "      <td>0.2</td>\n",
              "      <td>21.0</td>\n",
              "      <td>93.0</td>\n",
              "    </tr>\n",
              "    <tr>\n",
              "      <th>2</th>\n",
              "      <td>0.3</td>\n",
              "      <td>89.0</td>\n",
              "      <td>107.0</td>\n",
              "    </tr>\n",
              "    <tr>\n",
              "      <th>3</th>\n",
              "      <td>0.4</td>\n",
              "      <td>10.0</td>\n",
              "      <td>13.0</td>\n",
              "    </tr>\n",
              "    <tr>\n",
              "      <th>4</th>\n",
              "      <td>0.5</td>\n",
              "      <td>80.0</td>\n",
              "      <td>10.0</td>\n",
              "    </tr>\n",
              "    <tr>\n",
              "      <th>5</th>\n",
              "      <td>0.6</td>\n",
              "      <td>8.0</td>\n",
              "      <td>81.0</td>\n",
              "    </tr>\n",
              "    <tr>\n",
              "      <th>6</th>\n",
              "      <td>0.7</td>\n",
              "      <td>100.0</td>\n",
              "      <td>89.0</td>\n",
              "    </tr>\n",
              "    <tr>\n",
              "      <th>7</th>\n",
              "      <td>0.8</td>\n",
              "      <td>93.0</td>\n",
              "      <td>132.0</td>\n",
              "    </tr>\n",
              "    <tr>\n",
              "      <th>8</th>\n",
              "      <td>0.9</td>\n",
              "      <td>97.0</td>\n",
              "      <td>7.0</td>\n",
              "    </tr>\n",
              "    <tr>\n",
              "      <th>9</th>\n",
              "      <td>1.0</td>\n",
              "      <td>98.0</td>\n",
              "      <td>99.0</td>\n",
              "    </tr>\n",
              "  </tbody>\n",
              "</table>\n",
              "</div>"
            ],
            "text/plain": [
              "   alpha  One at a time  Many at a time\n",
              "0    0.1           33.0            48.0\n",
              "1    0.2           21.0            93.0\n",
              "2    0.3           89.0           107.0\n",
              "3    0.4           10.0            13.0\n",
              "4    0.5           80.0            10.0\n",
              "5    0.6            8.0            81.0\n",
              "6    0.7          100.0            89.0\n",
              "7    0.8           93.0           132.0\n",
              "8    0.9           97.0             7.0\n",
              "9    1.0           98.0            99.0"
            ]
          },
          "metadata": {
            "tags": []
          },
          "execution_count": 39
        }
      ]
    },
    {
      "cell_type": "code",
      "metadata": {
        "colab": {
          "base_uri": "https://localhost:8080/",
          "height": 295
        },
        "id": "k9PiGEpMQLbr",
        "outputId": "0960ed8a-ea3f-4ad0-f84b-da7575201bb5"
      },
      "source": [
        "width = 0.035\r\n",
        "fig,ax = plt.subplots()\r\n",
        "ax.bar(learning_rate - width/2, final['One at a time'], width=0.035, label='One at a time')\r\n",
        "\r\n",
        "ax.bar(learning_rate + width/2, final['Many at a time'], width=0.035, label='Many at a time')\r\n",
        "\r\n",
        "ax.set_ylabel('Iteration')\r\n",
        "ax.set_xlabel('Learning rates')\r\n",
        "ax.set_title('Comparison between One at a time vs Many at a time')\r\n",
        "ax.set_xticks(learning_rate)\r\n",
        "ax.legend()\r\n",
        "plt.show()"
      ],
      "execution_count": 40,
      "outputs": [
        {
          "output_type": "display_data",
          "data": {
            "image/png": "[encoded data removed]",
            "text/plain": [
              "<Figure size 432x288 with 1 Axes>"
            ]
          },
          "metadata": {
            "tags": [],
            "needs_background": "light"
          }
        }
      ]
    },
    {
      "cell_type": "code",
      "metadata": {
        "id": "ckwjAZ65QXRN"
      },
      "source": [
        ""
      ],
      "execution_count": null,
      "outputs": []
    }
  ]
}